{
 "cells": [
  {
   "cell_type": "code",
   "execution_count": 3,
   "outputs": [],
   "source": [
    "import pandas as pd\n",
    "import os"
   ],
   "metadata": {
    "collapsed": false,
    "pycharm": {
     "name": "#%%\n",
     "is_executing": false
    }
   }
  },
  {
   "cell_type": "code",
   "execution_count": 71,
   "outputs": [],
   "source": [
    "df_data_or = pd.read_csv('ip_cam_pedestrian.csv')\n",
    "margin = 10\n",
    "img_res = (1280, 720)\n",
    "df_data = df_data_or[(df_data_or.x > margin) & (df_data_or.x < img_res[0] - margin) \n",
    "                     & (df_data_or.x + df_data_or.w > margin) & (df_data_or.x + df_data_or.w < img_res[0] - margin) \n",
    "                     & (df_data_or.y > margin) & (df_data_or.y < img_res[1] - margin)\n",
    "                     & (df_data_or.y + df_data_or.h > margin) & (df_data_or.y + df_data_or.h < img_res[1] - margin)]\n",
    "\n",
    "\n",
    "df_data = df_data[(df_data.d > 0) & (df_data.d < 30)]"
   ],
   "metadata": {
    "collapsed": false,
    "pycharm": {
     "name": "#%%\n",
     "is_executing": false
    }
   }
  },
  {
   "cell_type": "code",
   "execution_count": 61,
   "outputs": [],
   "source": [
    "df_data = df_data[(df_data.h_rw > 0.5) & df_data.w_rw > 0.5]\n"
   ],
   "metadata": {
    "collapsed": false,
    "pycharm": {
     "name": "#%%\n",
     "is_executing": false
    }
   }
  },
  {
   "cell_type": "code",
   "execution_count": 62,
   "outputs": [
    {
     "name": "stdout",
     "text": [
      "0.8488971047305367\n0.506776776151284\n26.975036672798012\n"
     ],
     "output_type": "stream"
    }
   ],
   "source": [
    "print df_data.h_rw.min()\n",
    "print df_data.w_rw.min()\n",
    "\n",
    "print df_data.d.max()"
   ],
   "metadata": {
    "collapsed": false,
    "pycharm": {
     "name": "#%%\n",
     "is_executing": false
    }
   }
  },
  {
   "cell_type": "code",
   "execution_count": 63,
   "outputs": [
    {
     "data": {
      "text/plain": "     Unnamed: 0         d   c_a_rw      w_rw      h_rw    extent    x    y  \\\n236         236  26.64398  0.48363  0.949045  0.848897  0.600304  844  180   \n\n      w   h  c_a_px  time                      name  \n236  47  42  1185.0  9.48  movement_21_13_10.32.mp4  ",
      "text/html": "<div>\n<style scoped>\n    .dataframe tbody tr th:only-of-type {\n        vertical-align: middle;\n    }\n\n    .dataframe tbody tr th {\n        vertical-align: top;\n    }\n\n    .dataframe thead th {\n        text-align: right;\n    }\n</style>\n<table border=\"1\" class=\"dataframe\">\n  <thead>\n    <tr style=\"text-align: right;\">\n      <th></th>\n      <th>Unnamed: 0</th>\n      <th>d</th>\n      <th>c_a_rw</th>\n      <th>w_rw</th>\n      <th>h_rw</th>\n      <th>extent</th>\n      <th>x</th>\n      <th>y</th>\n      <th>w</th>\n      <th>h</th>\n      <th>c_a_px</th>\n      <th>time</th>\n      <th>name</th>\n    </tr>\n  </thead>\n  <tbody>\n    <tr>\n      <th>236</th>\n      <td>236</td>\n      <td>26.64398</td>\n      <td>0.48363</td>\n      <td>0.949045</td>\n      <td>0.848897</td>\n      <td>0.600304</td>\n      <td>844</td>\n      <td>180</td>\n      <td>47</td>\n      <td>42</td>\n      <td>1185.0</td>\n      <td>9.48</td>\n      <td>movement_21_13_10.32.mp4</td>\n    </tr>\n  </tbody>\n</table>\n</div>"
     },
     "metadata": {},
     "output_type": "execute_result",
     "execution_count": 63
    }
   ],
   "source": [
    "df_data[df_data.h_rw == df_data.h_rw.min()]"
   ],
   "metadata": {
    "collapsed": false,
    "pycharm": {
     "name": "#%%\n",
     "is_executing": false
    }
   }
  },
  {
   "cell_type": "code",
   "execution_count": 69,
   "outputs": [
    {
     "name": "stdout",
     "text": [
      "21\n"
     ],
     "output_type": "stream"
    }
   ],
   "source": [
    "path = '/home/ivan/movement/pedestrian/movement_21_13_10.32.mp4'\n",
    "print os.path.split(path)[1].split('_')[1]"
   ],
   "metadata": {
    "collapsed": false,
    "pycharm": {
     "name": "#%%\n",
     "is_executing": false
    }
   }
  },
  {
   "cell_type": "code",
   "execution_count": 6,
   "outputs": [
    {
     "name": "stdout",
     "text": [
      "setting value\n"
     ],
     "output_type": "stream"
    },
    {
     "data": {
      "text/plain": "0.03333333333333333"
     },
     "metadata": {},
     "output_type": "execute_result",
     "execution_count": 6
    }
   ],
   "source": [
    "class Test(object):\n",
    "    def __init__(self):\n",
    "        self._counter_sec = 0 \n",
    "        self._counter_min = 0\n",
    "        \n",
    "    @property    \n",
    "    def counter_sec(self):\n",
    "        return self._counter_min / float(60)\n",
    "    \n",
    "    @counter_sec.setter\n",
    "    def counter_sec(self, val):\n",
    "        print 'setting value'\n",
    "        self._counter_min = val\n",
    "\n",
    "a = Test()\n",
    "a.counter_sec = 2\n",
    "a.counter_sec"
   ],
   "metadata": {
    "collapsed": false,
    "pycharm": {
     "name": "#%%\n",
     "is_executing": false
    }
   }
  },
  {
   "cell_type": "code",
   "execution_count": 28,
   "outputs": [],
   "source": [
    "class CountorAreaTooSmall(Exception):\n",
    "    def __init__(self):\n",
    "        Exception.__init__(self, \"CountorAreaTooSmall\")\n",
    "class AppIsNotRunning(Exception):\n",
    "    def __init__(self):\n",
    "        Exception.__init__(self, \"The application is not running!\")"
   ],
   "metadata": {
    "collapsed": false,
    "pycharm": {
     "name": "#%%\n",
     "is_executing": false
    }
   }
  },
  {
   "cell_type": "code",
   "execution_count": 31,
   "outputs": [
    {
     "ename": "CountorAreaTooSmall",
     "evalue": "CountorAreaTooSmall",
     "traceback": [
      "\u001b[0;31m---------------------------------------------------------------------------\u001b[0m",
      "\u001b[0;31mCountorAreaTooSmall\u001b[0m                       Traceback (most recent call last)",
      "\u001b[0;32m<ipython-input-31-d3a71d06392b>\u001b[0m in \u001b[0;36m<module>\u001b[0;34m()\u001b[0m\n\u001b[1;32m      1\u001b[0m \u001b[0;34m\u001b[0m\u001b[0m\n\u001b[1;32m      2\u001b[0m \u001b[0;34m\u001b[0m\u001b[0m\n\u001b[0;32m----> 3\u001b[0;31m \u001b[0;32mraise\u001b[0m \u001b[0mCountorAreaTooSmall\u001b[0m\u001b[0;34m\u001b[0m\u001b[0m\n\u001b[0m",
      "\u001b[0;31mCountorAreaTooSmall\u001b[0m: CountorAreaTooSmall"
     ],
     "output_type": "error"
    }
   ],
   "source": [
    "\n",
    "raise CountorAreaTooSmall"
   ],
   "metadata": {
    "collapsed": false,
    "pycharm": {
     "name": "#%%\n",
     "is_executing": false
    }
   }
  },
  {
   "cell_type": "code",
   "execution_count": null,
   "outputs": [],
   "source": [
    "\n"
   ],
   "metadata": {
    "collapsed": false,
    "pycharm": {
     "name": "#%%\n"
    }
   }
  }
 ],
 "metadata": {
  "language_info": {
   "codemirror_mode": {
    "name": "ipython",
    "version": 2
   },
   "file_extension": ".py",
   "mimetype": "text/x-python",
   "name": "python",
   "nbconvert_exporter": "python",
   "pygments_lexer": "ipython2",
   "version": "2.7.6"
  },
  "kernelspec": {
   "name": "python2",
   "language": "python",
   "display_name": "Python 2"
  },
  "pycharm": {
   "stem_cell": {
    "cell_type": "raw",
    "source": [],
    "metadata": {
     "collapsed": false
    }
   }
  }
 },
 "nbformat": 4,
 "nbformat_minor": 0
}